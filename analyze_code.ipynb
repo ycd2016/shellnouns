{
  "nbformat": 4,
  "nbformat_minor": 0,
  "metadata": {
    "colab": {
      "name": "analyze.ipynb",
      "provenance": [],
      "collapsed_sections": []
    },
    "kernelspec": {
      "name": "python3",
      "display_name": "Python 3"
    },
    "language_info": {
      "name": "python"
    }
  },
  "cells": [
    {
      "cell_type": "markdown",
      "source": [
        "This notebook demonstrates how to use our proposed model to analyze your text file."
      ],
      "metadata": {
        "id": "lANGyG4r7rOL"
      }
    },
    {
      "cell_type": "code",
      "execution_count": null,
      "metadata": {
        "id": "5QagOQTS7mIL"
      },
      "outputs": [],
      "source": [
        "!gdown 15of88KFIMYoXkncONfipwdjoS0pguLuG\n",
        "!unzip model.zip"
      ]
    },
    {
      "cell_type": "code",
      "source": [
        "from tqdm import tqdm\n",
        "from flair.models import SequenceTagger\n",
        "from flair.tokenization import SegtokSentenceSplitter"
      ],
      "metadata": {
        "id": "QE0HjJ-z8VFd"
      },
      "execution_count": null,
      "outputs": []
    },
    {
      "cell_type": "code",
      "source": [
        "postag = SequenceTagger.load(\"flair/pos-english-fast\")\n",
        "shntag = SequenceTagger.load(\"./transformer.pt\")"
      ],
      "metadata": {
        "id": "lhkkcbSC8muF"
      },
      "execution_count": null,
      "outputs": []
    },
    {
      "cell_type": "code",
      "source": [
        "text = open(\"path to your txt file\").read()\n",
        "splitter = SegtokSentenceSplitter()\n",
        "sentences = splitter.split(text)"
      ],
      "metadata": {
        "id": "VS5xyZP28b4C"
      },
      "execution_count": null,
      "outputs": []
    },
    {
      "cell_type": "code",
      "source": [
        "for i in tqdm(range(len(sentences))):\n",
        "    postag.predict(sentences[i])\n",
        "    shntag.predict(sentences[i])"
      ],
      "metadata": {
        "id": "AYI9_YX58iRE"
      },
      "execution_count": null,
      "outputs": []
    },
    {
      "cell_type": "code",
      "source": [
        "stat = {}\n",
        "for s in tqdm(sentences):\n",
        "    po = s.get_labels(\"pos\")\n",
        "    sh = s.get_labels(\"shno\")\n",
        "    for i in range(len(s)):\n",
        "        if \"NN\" in po[i].value and \"SNN\" == sh[i].value:\n",
        "            tx = po[i].data_point.text.lower()\n",
        "            if tx in stat:\n",
        "                stat[tx] += 1\n",
        "            else:\n",
        "                stat[tx] = 1"
      ],
      "metadata": {
        "id": "Enle5Fgh8zRL"
      },
      "execution_count": null,
      "outputs": []
    },
    {
      "cell_type": "code",
      "source": [
        "with open(\"result.csv\", \"w\") as f:\n",
        "    f.write(\"word,freq\\n\")\n",
        "    for k, v in stat.items():\n",
        "        f.write(f\"{k},{v-1}\" + \"\\n\")"
      ],
      "metadata": {
        "id": "h_AHbFjy87a6"
      },
      "execution_count": null,
      "outputs": []
    }
  ]
}